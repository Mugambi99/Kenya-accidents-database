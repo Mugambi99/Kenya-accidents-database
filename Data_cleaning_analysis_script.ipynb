{
 "cells": [
  {
   "cell_type": "code",
   "execution_count": 1,
   "id": "f883dffc",
   "metadata": {},
   "outputs": [],
   "source": [
    "import pandas as pd"
   ]
  },
  {
   "cell_type": "markdown",
   "id": "58c3673b",
   "metadata": {},
   "source": [
    "### kenya-accidents-database\n",
    "- This database contains information about road accidents that happened in 2017 across all counties in Kenya.\n",
    "    - We first need to import Pandas as pd to be able to read the excel file as a dataframe\n",
    "\n",
    "- We have to carry out the following tasks in the Dataset below\n",
    "    - Data Processing, ie cleaning and manipulating the dataset into a data-frame for use in analysis\n",
    "    - Exploratory analysis and visualization of the data."
   ]
  },
  {
   "cell_type": "code",
   "execution_count": 2,
   "id": "c5449c74",
   "metadata": {},
   "outputs": [],
   "source": [
    "HDX = pd.read_excel(\"kenya-accidents-database.xlsx\", sheet_name=\"2017\")\n",
    "# We shall follow the Question using the 2017 dataset. As 2016 data has outliers that will cause skewness in our data\n",
    "# 2016 dataset when we look at the months it has only account for 2 months that will cause skewness"
   ]
  },
  {
   "cell_type": "code",
   "execution_count": 3,
   "id": "d91307b9",
   "metadata": {},
   "outputs": [
    {
     "data": {
      "text/plain": [
       "Index(['TIME 24 HOURS', 'BASE/SUB BASE', 'COUNTY', 'ROAD', 'PLACE',\n",
       "       'MV INVOLVED', 'BRIEF ACCIDENT DETAILS', 'NAME OF VICTIM', 'GENDER',\n",
       "       'AGE', 'CAUSE CODE', 'VICTIM', 'NO.', 'Date DD/MM/YYYY', 'Hour',\n",
       "       'Month'],\n",
       "      dtype='object')"
      ]
     },
     "execution_count": 3,
     "metadata": {},
     "output_type": "execute_result"
    }
   ],
   "source": [
    "HDX.keys()"
   ]
  },
  {
   "cell_type": "code",
   "execution_count": 4,
   "id": "efaa916f",
   "metadata": {},
   "outputs": [],
   "source": [
    "# HDX\n",
    "# The code has run successfully "
   ]
  },
  {
   "cell_type": "code",
   "execution_count": 5,
   "id": "99bf37ef",
   "metadata": {},
   "outputs": [
    {
     "name": "stdout",
     "output_type": "stream",
     "text": [
      "<class 'pandas.core.frame.DataFrame'>\n",
      "RangeIndex: 740 entries, 0 to 739\n",
      "Data columns (total 16 columns):\n",
      " #   Column                  Non-Null Count  Dtype         \n",
      "---  ------                  --------------  -----         \n",
      " 0   TIME 24 HOURS           737 non-null    object        \n",
      " 1   BASE/SUB BASE           738 non-null    object        \n",
      " 2   COUNTY                  739 non-null    object        \n",
      " 3   ROAD                    737 non-null    object        \n",
      " 4   PLACE                   734 non-null    object        \n",
      " 5   MV INVOLVED             740 non-null    object        \n",
      " 6   BRIEF ACCIDENT DETAILS  740 non-null    object        \n",
      " 7   NAME OF VICTIM          740 non-null    object        \n",
      " 8   GENDER                  740 non-null    object        \n",
      " 9   AGE                     739 non-null    object        \n",
      " 10  CAUSE CODE              718 non-null    float64       \n",
      " 11  VICTIM                  740 non-null    object        \n",
      " 12  NO.                     736 non-null    float64       \n",
      " 13  Date DD/MM/YYYY         740 non-null    datetime64[ns]\n",
      " 14  Hour                    705 non-null    float64       \n",
      " 15  Month                   740 non-null    int64         \n",
      "dtypes: datetime64[ns](1), float64(3), int64(1), object(11)\n",
      "memory usage: 92.6+ KB\n"
     ]
    }
   ],
   "source": [
    "HDX.info()\n",
    "\n",
    "# we want to see what the dataframe entails "
   ]
  },
  {
   "cell_type": "markdown",
   "id": "39a9dc77",
   "metadata": {},
   "source": [
    "### DATA CLEANING "
   ]
  },
  {
   "cell_type": "markdown",
   "id": "177cb240",
   "metadata": {},
   "source": [
    "We begin by renaming the following columns into the respective format\n",
    "- Date DD/MM/YYYY to Date\n",
    "- VICTIM to VICTIM_TYPE\n",
    "- BASE/SUB BASE\tto BASE_SUB BASE"
   ]
  },
  {
   "cell_type": "code",
   "execution_count": 6,
   "id": "8bc655fb",
   "metadata": {
    "scrolled": true
   },
   "outputs": [
    {
     "data": {
      "text/html": [
       "<div>\n",
       "<style scoped>\n",
       "    .dataframe tbody tr th:only-of-type {\n",
       "        vertical-align: middle;\n",
       "    }\n",
       "\n",
       "    .dataframe tbody tr th {\n",
       "        vertical-align: top;\n",
       "    }\n",
       "\n",
       "    .dataframe thead th {\n",
       "        text-align: right;\n",
       "    }\n",
       "</style>\n",
       "<table border=\"1\" class=\"dataframe\">\n",
       "  <thead>\n",
       "    <tr style=\"text-align: right;\">\n",
       "      <th></th>\n",
       "      <th>TIME 24 HOURS</th>\n",
       "      <th>BASE_SUB BASE</th>\n",
       "      <th>COUNTY</th>\n",
       "      <th>ROAD</th>\n",
       "      <th>PLACE</th>\n",
       "      <th>MV INVOLVED</th>\n",
       "      <th>BRIEF ACCIDENT DETAILS</th>\n",
       "      <th>NAME OF VICTIM</th>\n",
       "      <th>GENDER</th>\n",
       "      <th>AGE</th>\n",
       "      <th>CAUSE CODE</th>\n",
       "      <th>VICTIM_TYPE</th>\n",
       "      <th>NO.</th>\n",
       "      <th>Date</th>\n",
       "      <th>Hour</th>\n",
       "      <th>Month</th>\n",
       "    </tr>\n",
       "  </thead>\n",
       "  <tbody>\n",
       "    <tr>\n",
       "      <th>0</th>\n",
       "      <td>0745</td>\n",
       "      <td>KISUMU</td>\n",
       "      <td>KISUMU</td>\n",
       "      <td>NAIROBI-BUSIA</td>\n",
       "      <td>KASAGAM FLY OVER</td>\n",
       "      <td>KBS 163T/ZD 9531 AXIOR TRAILER</td>\n",
       "      <td>THE VEHICLE LOST CONTROL AND HIT BARRIER LANDI...</td>\n",
       "      <td>UNKNOWN</td>\n",
       "      <td>F</td>\n",
       "      <td>A</td>\n",
       "      <td>29.0</td>\n",
       "      <td>PASSENGER</td>\n",
       "      <td>1.0</td>\n",
       "      <td>2017-11-06</td>\n",
       "      <td>7.0</td>\n",
       "      <td>11</td>\n",
       "    </tr>\n",
       "    <tr>\n",
       "      <th>1</th>\n",
       "      <td>1430</td>\n",
       "      <td>NAROK</td>\n",
       "      <td>NAROK</td>\n",
       "      <td>NAROK-MAU</td>\n",
       "      <td>NAROK TOWN</td>\n",
       "      <td>KBS 518A HONDA CRV</td>\n",
       "      <td>VEHICLE KNOCKED DOWN A VICTIM</td>\n",
       "      <td>UNKNOWN</td>\n",
       "      <td>M</td>\n",
       "      <td>80</td>\n",
       "      <td>68.0</td>\n",
       "      <td>PEDESTRIAN</td>\n",
       "      <td>1.0</td>\n",
       "      <td>2017-11-06</td>\n",
       "      <td>14.0</td>\n",
       "      <td>11</td>\n",
       "    </tr>\n",
       "    <tr>\n",
       "      <th>2</th>\n",
       "      <td>1515</td>\n",
       "      <td>LONDIANI</td>\n",
       "      <td>KERICHO</td>\n",
       "      <td>KERICHO-NAKURU</td>\n",
       "      <td>JUBERT AREA</td>\n",
       "      <td>KTCB 472K JOHN DEER</td>\n",
       "      <td>THE VEHICLE LOST CONTROL,VEERING OFF THE ROAD ...</td>\n",
       "      <td>UNKNOWN</td>\n",
       "      <td>M</td>\n",
       "      <td>25</td>\n",
       "      <td>26.0</td>\n",
       "      <td>DRIVER</td>\n",
       "      <td>1.0</td>\n",
       "      <td>2017-11-06</td>\n",
       "      <td>15.0</td>\n",
       "      <td>11</td>\n",
       "    </tr>\n",
       "    <tr>\n",
       "      <th>3</th>\n",
       "      <td>1600</td>\n",
       "      <td>KIMILILI</td>\n",
       "      <td>BUNGOMA</td>\n",
       "      <td>BOKOLI-KIMILILI</td>\n",
       "      <td>BITUYU AREA</td>\n",
       "      <td>KBW 374M TOYOTA TOWNACE</td>\n",
       "      <td>VEHICLE KNOCKED DOWN A VICTIM</td>\n",
       "      <td>UNKNOWN</td>\n",
       "      <td>M</td>\n",
       "      <td>31</td>\n",
       "      <td>7.0</td>\n",
       "      <td>PEDESTRIAN</td>\n",
       "      <td>1.0</td>\n",
       "      <td>2017-11-06</td>\n",
       "      <td>16.0</td>\n",
       "      <td>11</td>\n",
       "    </tr>\n",
       "    <tr>\n",
       "      <th>4</th>\n",
       "      <td>1747</td>\n",
       "      <td>NAKURU</td>\n",
       "      <td>NAKURU</td>\n",
       "      <td>PIPELINE ELEMENTAITA</td>\n",
       "      <td>PIPELINE AREA</td>\n",
       "      <td>KMDQ 433R DAYAN &amp; KAR 843W</td>\n",
       "      <td>THE VEHICLE HIT THE MOTOR CYCLE</td>\n",
       "      <td>UNKNOWN</td>\n",
       "      <td>M</td>\n",
       "      <td>23</td>\n",
       "      <td>29.0</td>\n",
       "      <td>M/CYCLIST</td>\n",
       "      <td>1.0</td>\n",
       "      <td>2017-11-06</td>\n",
       "      <td>17.0</td>\n",
       "      <td>11</td>\n",
       "    </tr>\n",
       "    <tr>\n",
       "      <th>...</th>\n",
       "      <td>...</td>\n",
       "      <td>...</td>\n",
       "      <td>...</td>\n",
       "      <td>...</td>\n",
       "      <td>...</td>\n",
       "      <td>...</td>\n",
       "      <td>...</td>\n",
       "      <td>...</td>\n",
       "      <td>...</td>\n",
       "      <td>...</td>\n",
       "      <td>...</td>\n",
       "      <td>...</td>\n",
       "      <td>...</td>\n",
       "      <td>...</td>\n",
       "      <td>...</td>\n",
       "      <td>...</td>\n",
       "    </tr>\n",
       "    <tr>\n",
       "      <th>735</th>\n",
       "      <td>1730</td>\n",
       "      <td>KURIA</td>\n",
       "      <td>MIGORI</td>\n",
       "      <td>NTIMARU-KEHANCHA</td>\n",
       "      <td>TARANGANYA SHOPPING CENTRE</td>\n",
       "      <td>GK B 529 ISUZU DMAX &amp; M/J/PED</td>\n",
       "      <td>VEHICLE KNOCKED DOWN A VICTIM</td>\n",
       "      <td>CHARLES MUNATI</td>\n",
       "      <td>M</td>\n",
       "      <td>J</td>\n",
       "      <td>36.0</td>\n",
       "      <td>PEDESTRIAN</td>\n",
       "      <td>1.0</td>\n",
       "      <td>2017-02-22</td>\n",
       "      <td>17.0</td>\n",
       "      <td>2</td>\n",
       "    </tr>\n",
       "    <tr>\n",
       "      <th>736</th>\n",
       "      <td>1930</td>\n",
       "      <td>SAGANA</td>\n",
       "      <td>KIRINYAGA</td>\n",
       "      <td>KENOL-MAKUTANO</td>\n",
       "      <td>WACHORO AREA</td>\n",
       "      <td>KBU 591M/ZF 5724 SCANIA &amp; KMEA 508C TIGER</td>\n",
       "      <td>THE CYCLE HIT THE STATIONARY VEHICLE</td>\n",
       "      <td>UNKNOWN</td>\n",
       "      <td>M</td>\n",
       "      <td>A</td>\n",
       "      <td>37.0</td>\n",
       "      <td>RIDER AND P/PASSENGER</td>\n",
       "      <td>2.0</td>\n",
       "      <td>2017-02-22</td>\n",
       "      <td>19.0</td>\n",
       "      <td>2</td>\n",
       "    </tr>\n",
       "    <tr>\n",
       "      <th>737</th>\n",
       "      <td>2145</td>\n",
       "      <td>DTEO KASARANI</td>\n",
       "      <td>NAIROBI</td>\n",
       "      <td>THIKA RD</td>\n",
       "      <td>CAR WASH AREA</td>\n",
       "      <td>KCH 357W T/IST &amp; M/A/PED</td>\n",
       "      <td>VEHICLE KNOCKED DOWN A VICTIM</td>\n",
       "      <td>COLLINS KIARIE</td>\n",
       "      <td>M</td>\n",
       "      <td>20</td>\n",
       "      <td>98.0</td>\n",
       "      <td>PEDESTRIAN</td>\n",
       "      <td>1.0</td>\n",
       "      <td>2017-02-22</td>\n",
       "      <td>21.0</td>\n",
       "      <td>2</td>\n",
       "    </tr>\n",
       "    <tr>\n",
       "      <th>738</th>\n",
       "      <td>2039</td>\n",
       "      <td>KANGUNDO</td>\n",
       "      <td>MAKUENI</td>\n",
       "      <td>NAIROBI-KANGUNDO</td>\n",
       "      <td>MAKENZIE AREA</td>\n",
       "      <td>KCC 374L HINO MINIBUS &amp; KMCG 188U SKYGO</td>\n",
       "      <td>THE VEHICLE COLLIDED HEAD ON WITH THE M/CYCLE</td>\n",
       "      <td>BENARD MUTUNGA</td>\n",
       "      <td>M</td>\n",
       "      <td>36</td>\n",
       "      <td>82.0</td>\n",
       "      <td>RIDER</td>\n",
       "      <td>1.0</td>\n",
       "      <td>2017-02-22</td>\n",
       "      <td>20.0</td>\n",
       "      <td>2</td>\n",
       "    </tr>\n",
       "    <tr>\n",
       "      <th>739</th>\n",
       "      <td>0139</td>\n",
       "      <td>DTEO DAGORETI</td>\n",
       "      <td>NAIROBI</td>\n",
       "      <td>WAIYAKI WAY</td>\n",
       "      <td>KANGEMI STAGE</td>\n",
       "      <td>KBR 741X HONDA CRV &amp; M/A/PED</td>\n",
       "      <td>VEHICLE KNOCKED DOWN A VICTIM</td>\n",
       "      <td>UNKNOWN</td>\n",
       "      <td>M</td>\n",
       "      <td>A</td>\n",
       "      <td>98.0</td>\n",
       "      <td>PEDESTRIAN</td>\n",
       "      <td>1.0</td>\n",
       "      <td>2017-02-22</td>\n",
       "      <td>1.0</td>\n",
       "      <td>2</td>\n",
       "    </tr>\n",
       "  </tbody>\n",
       "</table>\n",
       "<p>740 rows × 16 columns</p>\n",
       "</div>"
      ],
      "text/plain": [
       "    TIME 24 HOURS  BASE_SUB BASE     COUNTY                  ROAD  \\\n",
       "0            0745         KISUMU     KISUMU         NAIROBI-BUSIA   \n",
       "1            1430          NAROK      NAROK             NAROK-MAU   \n",
       "2            1515       LONDIANI    KERICHO        KERICHO-NAKURU   \n",
       "3            1600       KIMILILI    BUNGOMA       BOKOLI-KIMILILI   \n",
       "4            1747         NAKURU     NAKURU  PIPELINE ELEMENTAITA   \n",
       "..            ...            ...        ...                   ...   \n",
       "735          1730          KURIA     MIGORI      NTIMARU-KEHANCHA   \n",
       "736          1930         SAGANA  KIRINYAGA        KENOL-MAKUTANO   \n",
       "737          2145  DTEO KASARANI    NAIROBI              THIKA RD   \n",
       "738          2039       KANGUNDO    MAKUENI      NAIROBI-KANGUNDO   \n",
       "739          0139  DTEO DAGORETI    NAIROBI           WAIYAKI WAY   \n",
       "\n",
       "                          PLACE                                MV INVOLVED  \\\n",
       "0              KASAGAM FLY OVER             KBS 163T/ZD 9531 AXIOR TRAILER   \n",
       "1                    NAROK TOWN                         KBS 518A HONDA CRV   \n",
       "2                   JUBERT AREA                        KTCB 472K JOHN DEER   \n",
       "3                   BITUYU AREA                    KBW 374M TOYOTA TOWNACE   \n",
       "4                 PIPELINE AREA                 KMDQ 433R DAYAN & KAR 843W   \n",
       "..                          ...                                        ...   \n",
       "735  TARANGANYA SHOPPING CENTRE              GK B 529 ISUZU DMAX & M/J/PED   \n",
       "736                WACHORO AREA  KBU 591M/ZF 5724 SCANIA & KMEA 508C TIGER   \n",
       "737               CAR WASH AREA                   KCH 357W T/IST & M/A/PED   \n",
       "738               MAKENZIE AREA    KCC 374L HINO MINIBUS & KMCG 188U SKYGO   \n",
       "739               KANGEMI STAGE               KBR 741X HONDA CRV & M/A/PED   \n",
       "\n",
       "                                BRIEF ACCIDENT DETAILS  NAME OF VICTIM GENDER  \\\n",
       "0    THE VEHICLE LOST CONTROL AND HIT BARRIER LANDI...         UNKNOWN      F   \n",
       "1                        VEHICLE KNOCKED DOWN A VICTIM         UNKNOWN      M   \n",
       "2    THE VEHICLE LOST CONTROL,VEERING OFF THE ROAD ...         UNKNOWN      M   \n",
       "3                        VEHICLE KNOCKED DOWN A VICTIM         UNKNOWN      M   \n",
       "4                      THE VEHICLE HIT THE MOTOR CYCLE         UNKNOWN      M   \n",
       "..                                                 ...             ...    ...   \n",
       "735                      VEHICLE KNOCKED DOWN A VICTIM  CHARLES MUNATI      M   \n",
       "736               THE CYCLE HIT THE STATIONARY VEHICLE         UNKNOWN      M   \n",
       "737                      VEHICLE KNOCKED DOWN A VICTIM  COLLINS KIARIE      M   \n",
       "738      THE VEHICLE COLLIDED HEAD ON WITH THE M/CYCLE  BENARD MUTUNGA      M   \n",
       "739                      VEHICLE KNOCKED DOWN A VICTIM         UNKNOWN      M   \n",
       "\n",
       "    AGE  CAUSE CODE            VICTIM_TYPE  NO.       Date  Hour  Month  \n",
       "0     A        29.0              PASSENGER  1.0 2017-11-06   7.0     11  \n",
       "1    80        68.0             PEDESTRIAN  1.0 2017-11-06  14.0     11  \n",
       "2    25        26.0                 DRIVER  1.0 2017-11-06  15.0     11  \n",
       "3    31         7.0             PEDESTRIAN  1.0 2017-11-06  16.0     11  \n",
       "4    23        29.0              M/CYCLIST  1.0 2017-11-06  17.0     11  \n",
       "..   ..         ...                    ...  ...        ...   ...    ...  \n",
       "735   J        36.0             PEDESTRIAN  1.0 2017-02-22  17.0      2  \n",
       "736   A        37.0  RIDER AND P/PASSENGER  2.0 2017-02-22  19.0      2  \n",
       "737  20        98.0             PEDESTRIAN  1.0 2017-02-22  21.0      2  \n",
       "738  36        82.0                  RIDER  1.0 2017-02-22  20.0      2  \n",
       "739   A        98.0             PEDESTRIAN  1.0 2017-02-22   1.0      2  \n",
       "\n",
       "[740 rows x 16 columns]"
      ]
     },
     "execution_count": 6,
     "metadata": {},
     "output_type": "execute_result"
    }
   ],
   "source": [
    "HDX.rename(columns={\"Date DD/MM/YYYY\":\"Date\", \"VICTIM\":\"VICTIM_TYPE\", \"BASE/SUB BASE\":\"BASE_SUB BASE\"}, inplace= True)\n",
    "# by setting inplace= True we have made the changes permanent\n",
    "HDX"
   ]
  },
  {
   "cell_type": "markdown",
   "id": "0d5df6f8",
   "metadata": {},
   "source": [
    "We are going to drop the irrelevant columns such as \n",
    "   - No. \n",
    "   - Name of Victim \n",
    "   - Places"
   ]
  },
  {
   "cell_type": "code",
   "execution_count": 7,
   "id": "cb1adc28",
   "metadata": {
    "scrolled": true
   },
   "outputs": [],
   "source": [
    "# how to remove columns\n",
    "HDX.drop(columns=[\"PLACE\",\"NO.\" , \"NAME OF VICTIM\"],inplace=True)"
   ]
  },
  {
   "cell_type": "code",
   "execution_count": 8,
   "id": "418664d3",
   "metadata": {},
   "outputs": [],
   "source": [
    "# HDX\n",
    "## they are no longer part of the dataframe"
   ]
  },
  {
   "cell_type": "markdown",
   "id": "a6f47e72",
   "metadata": {},
   "source": [
    "##### The next task is to remove records that time is Unknown\n",
    "- For that we can't just drop the object because it is a mixture of interger and string\n",
    "- we have to assess if there are any unique values \n",
    "- After we shall replace Unknow to np.nan that way it is easier to those records\n",
    "- Hence that is why we need to import the package Numpy "
   ]
  },
  {
   "cell_type": "code",
   "execution_count": 9,
   "id": "0c57087d",
   "metadata": {},
   "outputs": [],
   "source": [
    "import numpy as np"
   ]
  },
  {
   "cell_type": "code",
   "execution_count": 10,
   "id": "143b34a5",
   "metadata": {},
   "outputs": [
    {
     "data": {
      "text/plain": [
       "array(['0745', '1430', '1515', '1600', '1747', '1830', '1745', '2030',\n",
       "       '2300', '1930', '0630', '1030', '1330', '1100', '1730', '2136',\n",
       "       '0130', '1300', '2000', '1940', '1630', '1530', '0430', '2025',\n",
       "       '2015', '2230', '2045', '2130', '0600', '1440', '1640', '1920',\n",
       "       '1130', '1000', '1200', '0700', '1900', '1400', '2140',\n",
       "       'UNKNOWN TIME', '1210', '0800', '0900', '1350', '0730', '1800',\n",
       "       '2040', '2200', '2245', '0345', 'UNKNOWN', '1700', '2210', '1820',\n",
       "       '0720', '2050', '1645', '2345', '5', '3000', '2340', '1945',\n",
       "       '1545', '1345', '0640', '2010', '0400', '1230', '2315', '0100',\n",
       "       '1420', '1320', '2055', '0940', '1150', '1740', '1810', '1845',\n",
       "       '0930', '1240', '0830', '1720', '0715', '1840', '2100', '5000',\n",
       "       '0440', nan, '2330', '0230', '4000', '0810', '0545', '0620',\n",
       "       '2320', '2120', '0320', '1250', '1045', '0845', '2145', '1050',\n",
       "       '1750', '0530', '1500', '1520', '0240', '1540', '1445', '1710',\n",
       "       '1815', '0215', '2020', '0200', '1120', '2155', '2240', '0500',\n",
       "       '0820', '4500', '1550', '0645', '0220', '0210', '1140', '1410',\n",
       "       '2115', '1955', '1340', '1610', '1856', '1438', '2110', '0835',\n",
       "       '0700 HRS', '0600 HRS', '0045 HRS', '0500hrs', '1725', '0710',\n",
       "       '1620', 'NAROK', '1830HRS', '845HRS', '1530HRS', '1730HRS',\n",
       "       '0600HRS', '0220HRS', '0615', '0330', '0445', '2215', '2205',\n",
       "       '0610', '0840', '1145', '1220', '0300', '1205', '1850', '2039',\n",
       "       '0139'], dtype=object)"
      ]
     },
     "execution_count": 10,
     "metadata": {},
     "output_type": "execute_result"
    }
   ],
   "source": [
    "HDX[\"TIME 24 HOURS\"].unique()"
   ]
  },
  {
   "cell_type": "code",
   "execution_count": 11,
   "id": "a5543b28",
   "metadata": {},
   "outputs": [],
   "source": [
    "HDX[\"TIME 24 HOURS\"].replace(\"UNKNOWN TIME\", np.nan, inplace=True)\n",
    "HDX[\"TIME 24 HOURS\"].replace(\"UNKNOWN\", np.nan, inplace=True)\n",
    "HDX[\"TIME 24 HOURS\"].replace(\"NAROK\", np.nan, inplace=True)"
   ]
  },
  {
   "cell_type": "code",
   "execution_count": 12,
   "id": "de9974ef",
   "metadata": {},
   "outputs": [],
   "source": [
    "HDX.dropna(axis=\"index\", how=\"all\", subset=[\"TIME 24 HOURS\"], inplace=True)\n",
    "\n",
    "## here we are setting how=\"all\" and subset to that specific column because we want to remove the NAN values that were specifically there and the whole DF in large"
   ]
  },
  {
   "cell_type": "code",
   "execution_count": 13,
   "id": "2bf01ef1",
   "metadata": {},
   "outputs": [],
   "source": [
    "# HDX[\"TIME 24 HOURS\"].unique()\n",
    "\n",
    "## as you can see the values are no more\n",
    "## but also NAN values in the dataframe as well will be drop notice the change in Rows"
   ]
  },
  {
   "cell_type": "markdown",
   "id": "409fd00d",
   "metadata": {},
   "source": [
    "##### We need to sort Victim_type in descending order\n",
    "- we shall be using sort_values and set ascending to false"
   ]
  },
  {
   "cell_type": "code",
   "execution_count": 14,
   "id": "811d03d8",
   "metadata": {},
   "outputs": [],
   "source": [
    "HDX.sort_values(by=\"VICTIM_TYPE\", ascending=False, inplace=True)"
   ]
  },
  {
   "cell_type": "code",
   "execution_count": 15,
   "id": "e5599a22",
   "metadata": {},
   "outputs": [],
   "source": [
    "# HDX"
   ]
  },
  {
   "cell_type": "markdown",
   "id": "50c14016",
   "metadata": {},
   "source": [
    "#### Duplicated values tend to be outliers that can cause skewness in your data \n",
    "##### For this we have to perform various taks that we will be able to ;\n",
    "    - identify the duplicates and sum to see the total number of duplicates \n",
    "    - View the duplicates \n",
    "    - drop the duplicates "
   ]
  },
  {
   "cell_type": "code",
   "execution_count": 16,
   "id": "e0ef6a11",
   "metadata": {},
   "outputs": [
    {
     "data": {
      "text/plain": [
       "629    False\n",
       "253    False\n",
       "736    False\n",
       "631    False\n",
       "636    False\n",
       "       ...  \n",
       "720    False\n",
       "325    False\n",
       "656    False\n",
       "651    False\n",
       "641    False\n",
       "Length: 721, dtype: bool"
      ]
     },
     "execution_count": 16,
     "metadata": {},
     "output_type": "execute_result"
    }
   ],
   "source": [
    "HDX.duplicated()\n",
    "## but here we cant really see what has been duplicated unless we change our display rows but we can sum them"
   ]
  },
  {
   "cell_type": "code",
   "execution_count": 17,
   "id": "1cfe86ca",
   "metadata": {},
   "outputs": [
    {
     "data": {
      "text/plain": [
       "1"
      ]
     },
     "execution_count": 17,
     "metadata": {},
     "output_type": "execute_result"
    }
   ],
   "source": [
    "HDX.duplicated().sum()"
   ]
  },
  {
   "cell_type": "markdown",
   "id": "0fa754ac",
   "metadata": {},
   "source": [
    "##### we observe that only one row in the entire dataframe has been duplicated\n",
    "##### Next is to see the row itself and make judgement "
   ]
  },
  {
   "cell_type": "code",
   "execution_count": 18,
   "id": "eb9f34c1",
   "metadata": {},
   "outputs": [
    {
     "data": {
      "text/html": [
       "<div>\n",
       "<style scoped>\n",
       "    .dataframe tbody tr th:only-of-type {\n",
       "        vertical-align: middle;\n",
       "    }\n",
       "\n",
       "    .dataframe tbody tr th {\n",
       "        vertical-align: top;\n",
       "    }\n",
       "\n",
       "    .dataframe thead th {\n",
       "        text-align: right;\n",
       "    }\n",
       "</style>\n",
       "<table border=\"1\" class=\"dataframe\">\n",
       "  <thead>\n",
       "    <tr style=\"text-align: right;\">\n",
       "      <th></th>\n",
       "      <th>TIME 24 HOURS</th>\n",
       "      <th>BASE_SUB BASE</th>\n",
       "      <th>COUNTY</th>\n",
       "      <th>ROAD</th>\n",
       "      <th>MV INVOLVED</th>\n",
       "      <th>BRIEF ACCIDENT DETAILS</th>\n",
       "      <th>GENDER</th>\n",
       "      <th>AGE</th>\n",
       "      <th>CAUSE CODE</th>\n",
       "      <th>VICTIM_TYPE</th>\n",
       "      <th>Date</th>\n",
       "      <th>Hour</th>\n",
       "      <th>Month</th>\n",
       "    </tr>\n",
       "  </thead>\n",
       "  <tbody>\n",
       "    <tr>\n",
       "      <th>670</th>\n",
       "      <td>0330</td>\n",
       "      <td>MACHAKOS</td>\n",
       "      <td>MACHAKOS</td>\n",
       "      <td>MOMBASA NAIROBI</td>\n",
       "      <td>KBU 743D/ZE 1567 M/BENZ TRAILER &amp; KCC 683W ISU...</td>\n",
       "      <td>HEAD ON COLLISSION</td>\n",
       "      <td>M</td>\n",
       "      <td>A</td>\n",
       "      <td>98.0</td>\n",
       "      <td>DRIVER</td>\n",
       "      <td>2017-03-17</td>\n",
       "      <td>3.0</td>\n",
       "      <td>3</td>\n",
       "    </tr>\n",
       "  </tbody>\n",
       "</table>\n",
       "</div>"
      ],
      "text/plain": [
       "    TIME 24 HOURS BASE_SUB BASE    COUNTY             ROAD  \\\n",
       "670          0330      MACHAKOS  MACHAKOS  MOMBASA NAIROBI   \n",
       "\n",
       "                                           MV INVOLVED BRIEF ACCIDENT DETAILS  \\\n",
       "670  KBU 743D/ZE 1567 M/BENZ TRAILER & KCC 683W ISU...     HEAD ON COLLISSION   \n",
       "\n",
       "    GENDER AGE  CAUSE CODE VICTIM_TYPE       Date  Hour  Month  \n",
       "670      M   A        98.0      DRIVER 2017-03-17   3.0      3  "
      ]
     },
     "execution_count": 18,
     "metadata": {},
     "output_type": "execute_result"
    }
   ],
   "source": [
    "# To be able to view the data that has been duplicated \n",
    "HDX.loc[HDX.duplicated(), :]"
   ]
  },
  {
   "cell_type": "markdown",
   "id": "02218944",
   "metadata": {},
   "source": [
    "##### Lets view the occurrence of those duplicate "
   ]
  },
  {
   "cell_type": "code",
   "execution_count": 19,
   "id": "b310fbb2",
   "metadata": {},
   "outputs": [
    {
     "data": {
      "text/html": [
       "<div>\n",
       "<style scoped>\n",
       "    .dataframe tbody tr th:only-of-type {\n",
       "        vertical-align: middle;\n",
       "    }\n",
       "\n",
       "    .dataframe tbody tr th {\n",
       "        vertical-align: top;\n",
       "    }\n",
       "\n",
       "    .dataframe thead th {\n",
       "        text-align: right;\n",
       "    }\n",
       "</style>\n",
       "<table border=\"1\" class=\"dataframe\">\n",
       "  <thead>\n",
       "    <tr style=\"text-align: right;\">\n",
       "      <th></th>\n",
       "      <th>TIME 24 HOURS</th>\n",
       "      <th>BASE_SUB BASE</th>\n",
       "      <th>COUNTY</th>\n",
       "      <th>ROAD</th>\n",
       "      <th>MV INVOLVED</th>\n",
       "      <th>BRIEF ACCIDENT DETAILS</th>\n",
       "      <th>GENDER</th>\n",
       "      <th>AGE</th>\n",
       "      <th>CAUSE CODE</th>\n",
       "      <th>VICTIM_TYPE</th>\n",
       "      <th>Date</th>\n",
       "      <th>Hour</th>\n",
       "      <th>Month</th>\n",
       "    </tr>\n",
       "  </thead>\n",
       "  <tbody>\n",
       "    <tr>\n",
       "      <th>671</th>\n",
       "      <td>0330</td>\n",
       "      <td>MACHAKOS</td>\n",
       "      <td>MACHAKOS</td>\n",
       "      <td>MOMBASA NAIROBI</td>\n",
       "      <td>KBU 743D/ZE 1567 M/BENZ TRAILER &amp; KCC 683W ISU...</td>\n",
       "      <td>HEAD ON COLLISSION</td>\n",
       "      <td>M</td>\n",
       "      <td>A</td>\n",
       "      <td>98.0</td>\n",
       "      <td>DRIVER</td>\n",
       "      <td>2017-03-17</td>\n",
       "      <td>3.0</td>\n",
       "      <td>3</td>\n",
       "    </tr>\n",
       "    <tr>\n",
       "      <th>670</th>\n",
       "      <td>0330</td>\n",
       "      <td>MACHAKOS</td>\n",
       "      <td>MACHAKOS</td>\n",
       "      <td>MOMBASA NAIROBI</td>\n",
       "      <td>KBU 743D/ZE 1567 M/BENZ TRAILER &amp; KCC 683W ISU...</td>\n",
       "      <td>HEAD ON COLLISSION</td>\n",
       "      <td>M</td>\n",
       "      <td>A</td>\n",
       "      <td>98.0</td>\n",
       "      <td>DRIVER</td>\n",
       "      <td>2017-03-17</td>\n",
       "      <td>3.0</td>\n",
       "      <td>3</td>\n",
       "    </tr>\n",
       "  </tbody>\n",
       "</table>\n",
       "</div>"
      ],
      "text/plain": [
       "    TIME 24 HOURS BASE_SUB BASE    COUNTY             ROAD  \\\n",
       "671          0330      MACHAKOS  MACHAKOS  MOMBASA NAIROBI   \n",
       "670          0330      MACHAKOS  MACHAKOS  MOMBASA NAIROBI   \n",
       "\n",
       "                                           MV INVOLVED BRIEF ACCIDENT DETAILS  \\\n",
       "671  KBU 743D/ZE 1567 M/BENZ TRAILER & KCC 683W ISU...     HEAD ON COLLISSION   \n",
       "670  KBU 743D/ZE 1567 M/BENZ TRAILER & KCC 683W ISU...     HEAD ON COLLISSION   \n",
       "\n",
       "    GENDER AGE  CAUSE CODE VICTIM_TYPE       Date  Hour  Month  \n",
       "671      M   A        98.0      DRIVER 2017-03-17   3.0      3  \n",
       "670      M   A        98.0      DRIVER 2017-03-17   3.0      3  "
      ]
     },
     "execution_count": 19,
     "metadata": {},
     "output_type": "execute_result"
    }
   ],
   "source": [
    "HDX.loc[HDX.duplicated(keep=False), :]"
   ]
  },
  {
   "cell_type": "markdown",
   "id": "bb90bd7e",
   "metadata": {},
   "source": [
    "##### we observe that the duplicates had been following each other so we can drop either "
   ]
  },
  {
   "cell_type": "code",
   "execution_count": 20,
   "id": "dc5f5d82",
   "metadata": {},
   "outputs": [],
   "source": [
    "HDX.drop_duplicates(inplace=True)\n",
    "\n",
    "## we can keep the first or last but in this case seems not to be necessary"
   ]
  },
  {
   "cell_type": "markdown",
   "id": "bf655c56",
   "metadata": {},
   "source": [
    "##### The last task required is to rename column names that have spaces to have underscores instead of spaces\n",
    "##### They column names are as follows\n",
    "    - BRIEF ACCIDENT DETAILS\t\n",
    "    - TIME 24 HOURS\t\n",
    "    - MV INVOLVED\t\n",
    "    - CAUSE CODE\n",
    "    - NO."
   ]
  },
  {
   "cell_type": "code",
   "execution_count": 21,
   "id": "89a32e3b",
   "metadata": {},
   "outputs": [],
   "source": [
    "HDX.rename(columns={\"BRIEF ACCIDENT DETAILS\":\"BRIEF_ACCIDENT_DETAILS\",\n",
    "                    \"TIME 24 HOURS\":\"TIME_24_HOURS\",\n",
    "                    \"MV INVOLVED\":\"MV_INVOLVED\",\n",
    "                    \"CAUSE CODE\":\"CAUSE_CODE\"}, inplace=True)"
   ]
  },
  {
   "cell_type": "code",
   "execution_count": 22,
   "id": "cb28b8a7",
   "metadata": {},
   "outputs": [],
   "source": [
    "HDX_Clean= HDX\n",
    "## renamed the files as HDX_Clean"
   ]
  },
  {
   "cell_type": "code",
   "execution_count": 23,
   "id": "7226d697",
   "metadata": {},
   "outputs": [
    {
     "data": {
      "text/html": [
       "<div>\n",
       "<style scoped>\n",
       "    .dataframe tbody tr th:only-of-type {\n",
       "        vertical-align: middle;\n",
       "    }\n",
       "\n",
       "    .dataframe tbody tr th {\n",
       "        vertical-align: top;\n",
       "    }\n",
       "\n",
       "    .dataframe thead th {\n",
       "        text-align: right;\n",
       "    }\n",
       "</style>\n",
       "<table border=\"1\" class=\"dataframe\">\n",
       "  <thead>\n",
       "    <tr style=\"text-align: right;\">\n",
       "      <th></th>\n",
       "      <th>TIME_24_HOURS</th>\n",
       "      <th>BASE_SUB BASE</th>\n",
       "      <th>COUNTY</th>\n",
       "      <th>ROAD</th>\n",
       "      <th>MV_INVOLVED</th>\n",
       "      <th>BRIEF_ACCIDENT_DETAILS</th>\n",
       "      <th>GENDER</th>\n",
       "      <th>AGE</th>\n",
       "      <th>CAUSE_CODE</th>\n",
       "      <th>VICTIM_TYPE</th>\n",
       "      <th>Date</th>\n",
       "      <th>Hour</th>\n",
       "      <th>Month</th>\n",
       "    </tr>\n",
       "  </thead>\n",
       "  <tbody>\n",
       "    <tr>\n",
       "      <th>629</th>\n",
       "      <td>0930</td>\n",
       "      <td>NANDI CENTRAL</td>\n",
       "      <td>NANDI</td>\n",
       "      <td>KABIYET KURGONG-KIPKAREN SALIA RD</td>\n",
       "      <td>M/CYCLE KMDQ 3272 TVS &amp; KMDS 892V TVS</td>\n",
       "      <td>THE M/CYCLE COLLIDED HEAD ON WITH ANOTHER M/CYCLE</td>\n",
       "      <td>M</td>\n",
       "      <td>25&amp;28</td>\n",
       "      <td>37.0</td>\n",
       "      <td>RIDERS</td>\n",
       "      <td>2017-03-23</td>\n",
       "      <td>9.0</td>\n",
       "      <td>3</td>\n",
       "    </tr>\n",
       "    <tr>\n",
       "      <th>253</th>\n",
       "      <td>1000</td>\n",
       "      <td>NYARI</td>\n",
       "      <td>MOMBASA</td>\n",
       "      <td>OLD MOIYNE DRIVE</td>\n",
       "      <td>KBU666Q T/L/C/PRADO $M/CY KMDM 324D SIMBA</td>\n",
       "      <td>LOST CONTROL AND RAMMED FROM REAR ONTO M/CYCE</td>\n",
       "      <td>M</td>\n",
       "      <td>A</td>\n",
       "      <td>16.0</td>\n",
       "      <td>RIDER P/PASSANGER</td>\n",
       "      <td>2017-08-04</td>\n",
       "      <td>10.0</td>\n",
       "      <td>8</td>\n",
       "    </tr>\n",
       "    <tr>\n",
       "      <th>736</th>\n",
       "      <td>1930</td>\n",
       "      <td>SAGANA</td>\n",
       "      <td>KIRINYAGA</td>\n",
       "      <td>KENOL-MAKUTANO</td>\n",
       "      <td>KBU 591M/ZF 5724 SCANIA &amp; KMEA 508C TIGER</td>\n",
       "      <td>THE CYCLE HIT THE STATIONARY VEHICLE</td>\n",
       "      <td>M</td>\n",
       "      <td>A</td>\n",
       "      <td>37.0</td>\n",
       "      <td>RIDER AND P/PASSENGER</td>\n",
       "      <td>2017-02-22</td>\n",
       "      <td>19.0</td>\n",
       "      <td>2</td>\n",
       "    </tr>\n",
       "    <tr>\n",
       "      <th>631</th>\n",
       "      <td>0730</td>\n",
       "      <td>MUMIAS</td>\n",
       "      <td>KAKAMEGA</td>\n",
       "      <td>EKERO-SABATIA</td>\n",
       "      <td>M/CYCLE KMCC 471M TVS &amp; UNKNOWN M/VEHICLE</td>\n",
       "      <td>THE VEHICLE COLLIDED HEAD ON WITH THE M/CYCLE</td>\n",
       "      <td>M &amp; F/J</td>\n",
       "      <td>52 &amp;17</td>\n",
       "      <td>98.0</td>\n",
       "      <td>RIDER &amp; P/PASSENGER</td>\n",
       "      <td>2017-03-23</td>\n",
       "      <td>7.0</td>\n",
       "      <td>3</td>\n",
       "    </tr>\n",
       "    <tr>\n",
       "      <th>636</th>\n",
       "      <td>0930</td>\n",
       "      <td>KANDARA</td>\n",
       "      <td>MURANGA</td>\n",
       "      <td>MAKENJI-MURUKA</td>\n",
       "      <td>KYX 551 T/P/UP &amp; M/CYCLE KMDG 038X RANGER</td>\n",
       "      <td>THE M/CYCLE COLLIDED HEAD ON WITH THE M/VEHICLE</td>\n",
       "      <td>M</td>\n",
       "      <td>A</td>\n",
       "      <td>37.0</td>\n",
       "      <td>RIDER &amp; P/PASSENGER</td>\n",
       "      <td>2017-03-21</td>\n",
       "      <td>9.0</td>\n",
       "      <td>3</td>\n",
       "    </tr>\n",
       "    <tr>\n",
       "      <th>...</th>\n",
       "      <td>...</td>\n",
       "      <td>...</td>\n",
       "      <td>...</td>\n",
       "      <td>...</td>\n",
       "      <td>...</td>\n",
       "      <td>...</td>\n",
       "      <td>...</td>\n",
       "      <td>...</td>\n",
       "      <td>...</td>\n",
       "      <td>...</td>\n",
       "      <td>...</td>\n",
       "      <td>...</td>\n",
       "      <td>...</td>\n",
       "    </tr>\n",
       "    <tr>\n",
       "      <th>720</th>\n",
       "      <td>2200</td>\n",
       "      <td>ISINYA</td>\n",
       "      <td>KAJIADO</td>\n",
       "      <td>ISINYA-KAJIADO</td>\n",
       "      <td>KBZ 966G/ZE 5142 M/BENZ TRAILER &amp; KBH 8417 BEN...</td>\n",
       "      <td>THE TRAILERS SANDWITCHED THE VICTIMS</td>\n",
       "      <td>M</td>\n",
       "      <td>A</td>\n",
       "      <td>26.0</td>\n",
       "      <td>2 DRIVERS &amp; PASSENGER</td>\n",
       "      <td>2017-03-07</td>\n",
       "      <td>22.0</td>\n",
       "      <td>3</td>\n",
       "    </tr>\n",
       "    <tr>\n",
       "      <th>325</th>\n",
       "      <td>1445</td>\n",
       "      <td>NYERI</td>\n",
       "      <td>NYERI</td>\n",
       "      <td>NYAHURURU-MWEIGA</td>\n",
       "      <td>KBQ 014P ISUZU CANTER, KAJ 785Z TOYOTA SALOON,...</td>\n",
       "      <td>HEAD ON COLLISSION</td>\n",
       "      <td>M &amp; F</td>\n",
       "      <td>A</td>\n",
       "      <td>66.0</td>\n",
       "      <td>2 DRIVER &amp; 2 PASSENGER</td>\n",
       "      <td>2017-07-25</td>\n",
       "      <td>14.0</td>\n",
       "      <td>7</td>\n",
       "    </tr>\n",
       "    <tr>\n",
       "      <th>656</th>\n",
       "      <td>1530</td>\n",
       "      <td>LAIKIPIA</td>\n",
       "      <td>LAIKIPIA</td>\n",
       "      <td>MATANYA ROAD</td>\n",
       "      <td>KAX 407B T/SALOON &amp; KMDQ 204N M/CYCLE</td>\n",
       "      <td>THE VEHICLE HIT THE M/CYCLE</td>\n",
       "      <td>M</td>\n",
       "      <td>A</td>\n",
       "      <td>NaN</td>\n",
       "      <td>1 RIDER &amp; 1P/PASSENGER</td>\n",
       "      <td>2017-03-19</td>\n",
       "      <td>15.0</td>\n",
       "      <td>3</td>\n",
       "    </tr>\n",
       "    <tr>\n",
       "      <th>651</th>\n",
       "      <td>0445</td>\n",
       "      <td>VOI</td>\n",
       "      <td>TAITA-TAVETA</td>\n",
       "      <td>MSA-NRB</td>\n",
       "      <td>KAW 432E/ZC 5556 M/B/AXOR &amp; KCE 189T HARRIER</td>\n",
       "      <td>THE TRAILER COLLIDED HEAD ON WITH THE VEHICLE</td>\n",
       "      <td>M&amp;F</td>\n",
       "      <td>A</td>\n",
       "      <td>8.0</td>\n",
       "      <td>1 DRIVER &amp; 4 PASSENGERS</td>\n",
       "      <td>2017-03-19</td>\n",
       "      <td>4.0</td>\n",
       "      <td>3</td>\n",
       "    </tr>\n",
       "    <tr>\n",
       "      <th>641</th>\n",
       "      <td>1330</td>\n",
       "      <td>RUNYENJES</td>\n",
       "      <td>EMBU</td>\n",
       "      <td>EMBU-MERU</td>\n",
       "      <td>KCK 381B T/MATATU &amp; KAZ 038R ISUZU BUS</td>\n",
       "      <td>THE MATATU COLLIDED HEAD ON WITH THE BUS</td>\n",
       "      <td>2M &amp; F</td>\n",
       "      <td>A</td>\n",
       "      <td>10.0</td>\n",
       "      <td>1 DRIVER &amp; 2 PASSENGERS</td>\n",
       "      <td>2017-03-21</td>\n",
       "      <td>13.0</td>\n",
       "      <td>3</td>\n",
       "    </tr>\n",
       "  </tbody>\n",
       "</table>\n",
       "<p>720 rows × 13 columns</p>\n",
       "</div>"
      ],
      "text/plain": [
       "    TIME_24_HOURS  BASE_SUB BASE        COUNTY  \\\n",
       "629          0930  NANDI CENTRAL         NANDI   \n",
       "253          1000          NYARI       MOMBASA   \n",
       "736          1930         SAGANA     KIRINYAGA   \n",
       "631          0730         MUMIAS      KAKAMEGA   \n",
       "636          0930        KANDARA       MURANGA   \n",
       "..            ...            ...           ...   \n",
       "720          2200         ISINYA       KAJIADO   \n",
       "325          1445          NYERI         NYERI   \n",
       "656          1530       LAIKIPIA      LAIKIPIA   \n",
       "651          0445            VOI  TAITA-TAVETA   \n",
       "641          1330      RUNYENJES          EMBU   \n",
       "\n",
       "                                  ROAD  \\\n",
       "629  KABIYET KURGONG-KIPKAREN SALIA RD   \n",
       "253                   OLD MOIYNE DRIVE   \n",
       "736                     KENOL-MAKUTANO   \n",
       "631                      EKERO-SABATIA   \n",
       "636                     MAKENJI-MURUKA   \n",
       "..                                 ...   \n",
       "720                     ISINYA-KAJIADO   \n",
       "325                   NYAHURURU-MWEIGA   \n",
       "656                       MATANYA ROAD   \n",
       "651                            MSA-NRB   \n",
       "641                          EMBU-MERU   \n",
       "\n",
       "                                           MV_INVOLVED  \\\n",
       "629              M/CYCLE KMDQ 3272 TVS & KMDS 892V TVS   \n",
       "253          KBU666Q T/L/C/PRADO $M/CY KMDM 324D SIMBA   \n",
       "736          KBU 591M/ZF 5724 SCANIA & KMEA 508C TIGER   \n",
       "631          M/CYCLE KMCC 471M TVS & UNKNOWN M/VEHICLE   \n",
       "636          KYX 551 T/P/UP & M/CYCLE KMDG 038X RANGER   \n",
       "..                                                 ...   \n",
       "720  KBZ 966G/ZE 5142 M/BENZ TRAILER & KBH 8417 BEN...   \n",
       "325  KBQ 014P ISUZU CANTER, KAJ 785Z TOYOTA SALOON,...   \n",
       "656              KAX 407B T/SALOON & KMDQ 204N M/CYCLE   \n",
       "651       KAW 432E/ZC 5556 M/B/AXOR & KCE 189T HARRIER   \n",
       "641             KCK 381B T/MATATU & KAZ 038R ISUZU BUS   \n",
       "\n",
       "                                BRIEF_ACCIDENT_DETAILS   GENDER     AGE  \\\n",
       "629  THE M/CYCLE COLLIDED HEAD ON WITH ANOTHER M/CYCLE        M   25&28   \n",
       "253      LOST CONTROL AND RAMMED FROM REAR ONTO M/CYCE        M       A   \n",
       "736               THE CYCLE HIT THE STATIONARY VEHICLE        M       A   \n",
       "631      THE VEHICLE COLLIDED HEAD ON WITH THE M/CYCLE  M & F/J  52 &17   \n",
       "636    THE M/CYCLE COLLIDED HEAD ON WITH THE M/VEHICLE        M       A   \n",
       "..                                                 ...      ...     ...   \n",
       "720               THE TRAILERS SANDWITCHED THE VICTIMS        M       A   \n",
       "325                                 HEAD ON COLLISSION    M & F       A   \n",
       "656                        THE VEHICLE HIT THE M/CYCLE        M       A   \n",
       "651      THE TRAILER COLLIDED HEAD ON WITH THE VEHICLE      M&F       A   \n",
       "641           THE MATATU COLLIDED HEAD ON WITH THE BUS   2M & F       A   \n",
       "\n",
       "     CAUSE_CODE              VICTIM_TYPE       Date  Hour  Month  \n",
       "629        37.0                   RIDERS 2017-03-23   9.0      3  \n",
       "253        16.0        RIDER P/PASSANGER 2017-08-04  10.0      8  \n",
       "736        37.0    RIDER AND P/PASSENGER 2017-02-22  19.0      2  \n",
       "631        98.0      RIDER & P/PASSENGER 2017-03-23   7.0      3  \n",
       "636        37.0      RIDER & P/PASSENGER 2017-03-21   9.0      3  \n",
       "..          ...                      ...        ...   ...    ...  \n",
       "720        26.0    2 DRIVERS & PASSENGER 2017-03-07  22.0      3  \n",
       "325        66.0   2 DRIVER & 2 PASSENGER 2017-07-25  14.0      7  \n",
       "656         NaN   1 RIDER & 1P/PASSENGER 2017-03-19  15.0      3  \n",
       "651         8.0  1 DRIVER & 4 PASSENGERS 2017-03-19   4.0      3  \n",
       "641        10.0  1 DRIVER & 2 PASSENGERS 2017-03-21  13.0      3  \n",
       "\n",
       "[720 rows x 13 columns]"
      ]
     },
     "execution_count": 23,
     "metadata": {},
     "output_type": "execute_result"
    }
   ],
   "source": [
    "HDX_Clean"
   ]
  },
  {
   "cell_type": "markdown",
   "id": "bf5a3383",
   "metadata": {},
   "source": [
    "### DATA VISUALIZE"
   ]
  },
  {
   "cell_type": "markdown",
   "id": "acb7042a",
   "metadata": {},
   "source": [
    "##### From the information above we dont have to convert \"Date\" column to datetime object \n",
    "This will enable use to resample the data to suite our criteria for visualization "
   ]
  },
  {
   "cell_type": "code",
   "execution_count": 24,
   "id": "06a846c1",
   "metadata": {},
   "outputs": [],
   "source": [
    "HDX_Clean = pd.read_excel(\"kenya-accidents-database.xlsx\", sheet_name=\"2017\")\n",
    "HDX_Clean.rename(columns={\"Date DD/MM/YYYY\":\"Date\", \"VICTIM\":\"VICTIM_TYPE\", \"BASE/SUB BASE\":\"BASE_SUB BASE\", \"BRIEF ACCIDENT DETAILS\":\"BRIEF_ACCIDENT_DETAILS\", \"TIME 24 HOURS\":\"TIME_24_HOURS\", \"MV INVOLVED\":\"MV_INVOLVED\", \"CAUSE CODE\":\"CAUSE_CODE\", \"NO.\":\"Number_of_accidents\"}, inplace=True)\n",
    "\n",
    "## in order to get the Number of accidents "
   ]
  },
  {
   "cell_type": "code",
   "execution_count": 25,
   "id": "26c651c8",
   "metadata": {},
   "outputs": [
    {
     "data": {
      "text/plain": [
       "'Monday'"
      ]
     },
     "execution_count": 25,
     "metadata": {},
     "output_type": "execute_result"
    }
   ],
   "source": [
    "HDX_Clean.loc[0, \"Date\"].day_name()"
   ]
  },
  {
   "cell_type": "markdown",
   "id": "d83026a3",
   "metadata": {},
   "source": [
    "#### Resampling is Quite important and we need to look at the dateoffset documentation that will help us\n",
    "- Say we want to look at the data on a Monthly basis what will we do?\n",
    "    - First we need to look at the number of the accidents and sum by the month"
   ]
  },
  {
   "cell_type": "code",
   "execution_count": 26,
   "id": "35ddb3ca",
   "metadata": {},
   "outputs": [
    {
     "data": {
      "text/plain": [
       "Timestamp('2017-11-06 00:00:00')"
      ]
     },
     "execution_count": 26,
     "metadata": {},
     "output_type": "execute_result"
    }
   ],
   "source": [
    "HDX_Clean.loc[0, \"Date\"]"
   ]
  },
  {
   "cell_type": "code",
   "execution_count": 27,
   "id": "77098ade",
   "metadata": {},
   "outputs": [],
   "source": [
    "HDX_Clean.set_index(\"Date\", inplace=True)"
   ]
  },
  {
   "cell_type": "code",
   "execution_count": 28,
   "id": "3e42f842",
   "metadata": {},
   "outputs": [
    {
     "data": {
      "text/plain": [
       "Date\n",
       "2017-02-28     15.0\n",
       "2017-03-31    184.0\n",
       "2017-04-30     28.0\n",
       "2017-05-31     94.0\n",
       "2017-06-30     58.0\n",
       "2017-07-31    191.0\n",
       "2017-08-31    143.0\n",
       "2017-09-30     79.0\n",
       "2017-10-31     66.0\n",
       "2017-11-30     25.0\n",
       "Freq: M, Name: Number_of_accidents, dtype: float64"
      ]
     },
     "execution_count": 28,
     "metadata": {},
     "output_type": "execute_result"
    }
   ],
   "source": [
    "months= HDX_Clean[\"Number_of_accidents\"].resample(\"M\").sum()\n",
    "months"
   ]
  },
  {
   "cell_type": "code",
   "execution_count": 29,
   "id": "56efa4a7",
   "metadata": {},
   "outputs": [],
   "source": [
    "%matplotlib inline\n",
    "\n",
    "# this helps to display within the browser"
   ]
  },
  {
   "cell_type": "code",
   "execution_count": 30,
   "id": "c2e83de8",
   "metadata": {},
   "outputs": [],
   "source": [
    "from matplotlib import pyplot as plt"
   ]
  },
  {
   "cell_type": "markdown",
   "id": "423cc515",
   "metadata": {},
   "source": [
    "#### QUESTION - Calculate number of accidents across months; Plot static/interactive graph showing this\n",
    "#### ANSWER - To calculate the number of accidents across months, you can use the resample() method in pandas to aggregate the data by month and count the number of accidents in each month"
   ]
  },
  {
   "cell_type": "code",
   "execution_count": 31,
   "id": "ef196a83",
   "metadata": {
    "scrolled": false
   },
   "outputs": [
    {
     "data": {
      "image/png": "[encoded data removed]",
      "text/plain": [
       "<Figure size 720x360 with 1 Axes>"
      ]
     },
     "metadata": {
      "needs_background": "light"
     },
     "output_type": "display_data"
    },
    {
     "data": {
      "text/plain": [
       "<Figure size 432x288 with 0 Axes>"
      ]
     },
     "metadata": {},
     "output_type": "display_data"
    }
   ],
   "source": [
    "fig = plt.figure(figsize =(10, 5))\n",
    "# Create a line chart of the monthly accidents\n",
    "barWidth = 10\n",
    "plt.bar(months.index, months, width = barWidth)\n",
    "\n",
    "# Add labels and title\n",
    "plt.xlabel('Month')\n",
    "plt.ylabel('Number of Accidents')\n",
    "plt.title('Accidents by Month')\n",
    "\n",
    "# Show the plot\n",
    "plt.show()\n",
    "\n",
    "plt.savefig('accidents by month.png')"
   ]
  },
  {
   "cell_type": "markdown",
   "id": "4a6ecb7d",
   "metadata": {},
   "source": [
    "#### QUESTION - Identify most frequent accident type; Plot static/interactive graph showing this \n",
    "#### ANSWER - To identify the most frequent accident type, we can use the value_counts() method of a pandas Series object."
   ]
  },
  {
   "cell_type": "code",
   "execution_count": 32,
   "id": "d7972976",
   "metadata": {},
   "outputs": [],
   "source": [
    "type_accident= HDX_Clean[\"BRIEF_ACCIDENT_DETAILS\"].value_counts().head(10)"
   ]
  },
  {
   "cell_type": "code",
   "execution_count": 33,
   "id": "2685e5ef",
   "metadata": {},
   "outputs": [
    {
     "data": {
      "image/png": "[encoded data removed]",
      "text/plain": [
       "<Figure size 432x288 with 1 Axes>"
      ]
     },
     "metadata": {
      "needs_background": "light"
     },
     "output_type": "display_data"
    },
    {
     "data": {
      "text/plain": [
       "<Figure size 432x288 with 0 Axes>"
      ]
     },
     "metadata": {},
     "output_type": "display_data"
    }
   ],
   "source": [
    "## we are creating a horizontal bar for this \n",
    "type_accident.plot.barh()\n",
    "plt.xlabel(\"Number of accidents\")\n",
    "plt.title(\"Accident type counts\")\n",
    "plt.show()\n",
    "\n",
    "plt.savefig('accidents type counts.png')"
   ]
  },
  {
   "cell_type": "markdown",
   "id": "f84794dd",
   "metadata": {},
   "source": [
    "#### QUESTION - Summary of affected gender by accident type; Plot static/interactive graph showing this\n",
    "#### ANSWER- we can use the groupby() method of a pandas DataFrame object to group the data by the accident type and gender, and then use the size() method to count the number of occurrences for each group."
   ]
  },
  {
   "cell_type": "code",
   "execution_count": 34,
   "id": "a48e89a5",
   "metadata": {},
   "outputs": [],
   "source": [
    "gender_counts =HDX_Clean.groupby([\"BRIEF_ACCIDENT_DETAILS\", \"GENDER\"])[\"GENDER\"].size().unstack(fill_value=0).head(10)"
   ]
  },
  {
   "cell_type": "code",
   "execution_count": 35,
   "id": "e8efcd87",
   "metadata": {},
   "outputs": [
    {
     "data": {
      "image/png": "[encoded data removed]",
      "text/plain": [
       "<Figure size 432x288 with 1 Axes>"
      ]
     },
     "metadata": {
      "needs_background": "light"
     },
     "output_type": "display_data"
    },
    {
     "data": {
      "text/plain": [
       "<Figure size 432x288 with 0 Axes>"
      ]
     },
     "metadata": {},
     "output_type": "display_data"
    }
   ],
   "source": [
    "gender_counts.plot.barh(stacked=True)\n",
    "plt.xlabel(\"Number of accidents\")\n",
    "plt.title(\"Affected gender by accident type\")\n",
    "plt.show()\n",
    "\n",
    "plt.savefig('affected gender.png')"
   ]
  },
  {
   "cell_type": "markdown",
   "id": "3c6d90cc",
   "metadata": {},
   "source": [
    "#### QUESTION - Which are the top 10 Accident hotspot counties; Plot static graph showing this\n",
    "#### ANSWER -  We can use the value_counts() method to count the occurrences of each county in the County column of the DataFrame, and then select the top 10 using the head() method."
   ]
  },
  {
   "cell_type": "code",
   "execution_count": 36,
   "id": "c2f0079b",
   "metadata": {},
   "outputs": [],
   "source": [
    "top_counties = HDX_Clean[\"COUNTY\"].value_counts().head(10)"
   ]
  },
  {
   "cell_type": "code",
   "execution_count": 37,
   "id": "9a0729dc",
   "metadata": {},
   "outputs": [
    {
     "data": {
      "image/png": "[encoded data removed]",
      "text/plain": [
       "<Figure size 432x288 with 1 Axes>"
      ]
     },
     "metadata": {
      "needs_background": "light"
     },
     "output_type": "display_data"
    },
    {
     "data": {
      "text/plain": [
       "<Figure size 432x288 with 0 Axes>"
      ]
     },
     "metadata": {},
     "output_type": "display_data"
    }
   ],
   "source": [
    "top_counties.plot.barh()\n",
    "plt.xlabel(\"Number of accidents\")\n",
    "plt.title(\"Top 10 accident hotspot counties\")\n",
    "plt.show()\n",
    "\n",
    "plt.savefig('accidents hotspot.png')"
   ]
  },
  {
   "cell_type": "markdown",
   "id": "b2c9e554",
   "metadata": {},
   "source": [
    "#### QUESTION - Subset the data to have data for Nairobi metropolitan counties only (Nairobi,Kiambu, Machakos, Kajiado,Muranga) and call it \"NMS_data\"\n",
    "#### ANSWER - we can use boolean indexing with the isin() method and filtering methods"
   ]
  },
  {
   "cell_type": "code",
   "execution_count": 38,
   "id": "70260b98",
   "metadata": {},
   "outputs": [],
   "source": [
    "counties = [\"NAIROBI\", \"KIAMBU\", \"MACHAKOS\", \"KAJIADO\", \"MURANGA\"]\n",
    "filt= HDX_Clean[\"COUNTY\"].isin(counties)"
   ]
  },
  {
   "cell_type": "code",
   "execution_count": 39,
   "id": "b151bab2",
   "metadata": {},
   "outputs": [],
   "source": [
    "NMS_data = HDX_Clean.loc[filt, \"COUNTY\"]"
   ]
  },
  {
   "cell_type": "code",
   "execution_count": 40,
   "id": "acf99679",
   "metadata": {},
   "outputs": [
    {
     "data": {
      "text/plain": [
       "Date\n",
       "2017-11-06     KAJIADO\n",
       "2017-11-05     NAIROBI\n",
       "2017-11-05    MACHAKOS\n",
       "2017-11-05     KAJIADO\n",
       "2017-11-02    MACHAKOS\n",
       "                ...   \n",
       "2017-02-28    MACHAKOS\n",
       "2017-02-28      KIAMBU\n",
       "2017-02-22     MURANGA\n",
       "2017-02-22     NAIROBI\n",
       "2017-02-22     NAIROBI\n",
       "Name: COUNTY, Length: 256, dtype: object"
      ]
     },
     "execution_count": 40,
     "metadata": {},
     "output_type": "execute_result"
    }
   ],
   "source": [
    "NMS_data"
   ]
  },
  {
   "cell_type": "markdown",
   "id": "7dd918f9",
   "metadata": {},
   "source": [
    "#### QUESTION - Using NMS_data find out which county has experienced the highest number of accidents; Plot static/interactive graph showing this\n",
    "#### ANSWER - we can use the value_counts() method on the County column of the NMS_data DataFrame, and then select the top county using the idxmax() method. "
   ]
  },
  {
   "cell_type": "code",
   "execution_count": 41,
   "id": "399cd5c9",
   "metadata": {},
   "outputs": [
    {
     "name": "stdout",
     "output_type": "stream",
     "text": [
      "The county with the highest number of accidents is: NAIROBI\n"
     ]
    }
   ],
   "source": [
    "top_county = NMS_data.value_counts().idxmax()\n",
    "print(\"The county with the highest number of accidents is:\", top_county)"
   ]
  },
  {
   "cell_type": "code",
   "execution_count": 42,
   "id": "a38e0b52",
   "metadata": {},
   "outputs": [
    {
     "data": {
      "image/png": "[encoded data removed]",
      "text/plain": [
       "<Figure size 432x288 with 1 Axes>"
      ]
     },
     "metadata": {
      "needs_background": "light"
     },
     "output_type": "display_data"
    },
    {
     "data": {
      "text/plain": [
       "<Figure size 432x288 with 0 Axes>"
      ]
     },
     "metadata": {},
     "output_type": "display_data"
    }
   ],
   "source": [
    "county_counts = NMS_data.value_counts()\n",
    "county_counts.plot.bar()\n",
    "plt.xlabel(\"County\")\n",
    "plt.ylabel(\"Number of accidents\")\n",
    "plt.title(\"Accidents by County in the Nairobi Metropolitan Region\")\n",
    "plt.show()\n",
    "\n",
    "plt.savefig('metropolitan accidents.png')"
   ]
  },
  {
   "cell_type": "code",
   "execution_count": 43,
   "id": "57fb38e6",
   "metadata": {},
   "outputs": [
    {
     "name": "stdout",
     "output_type": "stream",
     "text": [
      "The month with the highest number of accidents is: 3\n"
     ]
    }
   ],
   "source": [
    "top_month = NMS_data.groupby(NMS_data.index.month).count().idxmax()\n",
    "print(\"The month with the highest number of accidents is:\", top_month)"
   ]
  },
  {
   "cell_type": "code",
   "execution_count": 44,
   "id": "c60ed25e",
   "metadata": {},
   "outputs": [
    {
     "data": {
      "image/png": "[encoded data removed]",
      "text/plain": [
       "<Figure size 432x288 with 1 Axes>"
      ]
     },
     "metadata": {
      "needs_background": "light"
     },
     "output_type": "display_data"
    }
   ],
   "source": [
    "county_month_counts = NMS_data.groupby([NMS_data.index.month]).size()\n",
    "county_month_counts.plot.bar()\n",
    "plt.xlabel(\"Month\")\n",
    "plt.ylabel(\"Number of accidents\")\n",
    "plt.title(\"Accidents by Month and County in the Nairobi Metropolitan Region\")\n",
    "plt.savefig('number of accidents per county.png')"
   ]
  },
  {
   "cell_type": "code",
   "execution_count": 45,
   "id": "29184920",
   "metadata": {},
   "outputs": [
    {
     "name": "stdout",
     "output_type": "stream",
     "text": [
      "Initialized empty Git repository in C:/Users/HP/ICHA/.git/\n"
     ]
    }
   ],
   "source": [
    "!git init"
   ]
  },
  {
   "cell_type": "code",
   "execution_count": null,
   "id": "a3907b36",
   "metadata": {},
   "outputs": [],
   "source": []
  }
 ],
 "metadata": {
  "kernelspec": {
   "display_name": "Python 3 (ipykernel)",
   "language": "python",
   "name": "python3"
  },
  "language_info": {
   "codemirror_mode": {
    "name": "ipython",
    "version": 3
   },
   "file_extension": ".py",
   "mimetype": "text/x-python",
   "name": "python",
   "nbconvert_exporter": "python",
   "pygments_lexer": "ipython3",
   "version": "3.9.7"
  }
 },
 "nbformat": 4,
 "nbformat_minor": 5
}
